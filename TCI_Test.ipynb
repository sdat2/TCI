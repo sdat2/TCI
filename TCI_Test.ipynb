{
 "cells": [
  {
   "cell_type": "markdown",
   "id": "sitting-israel",
   "metadata": {},
   "source": [
    "# TCI Test"
   ]
  },
  {
   "cell_type": "code",
   "execution_count": 10,
   "id": "fossil-grant",
   "metadata": {},
   "outputs": [
    {
     "ename": "ModuleNotFoundError",
     "evalue": "No module named 'tcpypi'",
     "output_type": "error",
     "traceback": [
      "\u001b[0;31m---------------------------------------------------------------------------\u001b[0m",
      "\u001b[0;31mModuleNotFoundError\u001b[0m                       Traceback (most recent call last)",
      "\u001b[0;32m<ipython-input-10-03a99da5dba5>\u001b[0m in \u001b[0;36m<module>\u001b[0;34m\u001b[0m\n\u001b[0;32m----> 1\u001b[0;31m \u001b[0;32mfrom\u001b[0m \u001b[0mtcpypi\u001b[0m \u001b[0;32mimport\u001b[0m \u001b[0mpi\u001b[0m\u001b[0;34m,\u001b[0m \u001b[0mcape\u001b[0m\u001b[0;34m\u001b[0m\u001b[0;34m\u001b[0m\u001b[0m\n\u001b[0m",
      "\u001b[0;31mModuleNotFoundError\u001b[0m: No module named 'tcpypi'"
     ]
    }
   ],
   "source": [
    "from tcpypi import pi, cape"
   ]
  },
  {
   "cell_type": "code",
   "execution_count": 6,
   "id": "veterinary-nickel",
   "metadata": {},
   "outputs": [
    {
     "name": "stdout",
     "output_type": "stream",
     "text": [
      "Requirement already satisfied: tcpypi in /home/jovyan/.local/lib/python3.8/site-packages (1.3.4)\n",
      "Requirement already satisfied: numba==0.51.2 in /home/jovyan/.local/lib/python3.8/site-packages (from tcpypi) (0.51.2)\n",
      "Requirement already satisfied: xarray==0.16.2 in /srv/conda/envs/notebook/lib/python3.8/site-packages (from tcpypi) (0.16.2)\n",
      "Requirement already satisfied: numpy==1.19.5 in /srv/conda/envs/notebook/lib/python3.8/site-packages (from tcpypi) (1.19.5)\n",
      "Requirement already satisfied: setuptools in /srv/conda/envs/notebook/lib/python3.8/site-packages (from numba==0.51.2->tcpypi) (49.6.0.post20210108)\n",
      "Requirement already satisfied: llvmlite<0.35,>=0.34.0.dev0 in /home/jovyan/.local/lib/python3.8/site-packages (from numba==0.51.2->tcpypi) (0.34.0)\n",
      "Requirement already satisfied: pandas>=0.25 in /srv/conda/envs/notebook/lib/python3.8/site-packages (from xarray==0.16.2->tcpypi) (1.2.1)\n",
      "Requirement already satisfied: python-dateutil>=2.7.3 in /srv/conda/envs/notebook/lib/python3.8/site-packages (from pandas>=0.25->xarray==0.16.2->tcpypi) (2.7.5)\n",
      "Requirement already satisfied: pytz>=2017.3 in /srv/conda/envs/notebook/lib/python3.8/site-packages (from pandas>=0.25->xarray==0.16.2->tcpypi) (2021.1)\n",
      "Requirement already satisfied: six>=1.5 in /srv/conda/envs/notebook/lib/python3.8/site-packages (from python-dateutil>=2.7.3->pandas>=0.25->xarray==0.16.2->tcpypi) (1.15.0)\n"
     ]
    }
   ],
   "source": [
    "! pip install --user tcpypi"
   ]
  },
  {
   "cell_type": "code",
   "execution_count": 4,
   "id": "integral-afternoon",
   "metadata": {},
   "outputs": [
    {
     "name": "stdout",
     "output_type": "stream",
     "text": [
      "Obtaining file:///home/jovyan/TCI\n",
      "Requirement already satisfied: numpy>=1.11.1 in /srv/conda/envs/notebook/lib/python3.8/site-packages (from tci==1.0.0) (1.19.5)\n",
      "Requirement already satisfied: matplotlib>=1.5.1 in /srv/conda/envs/notebook/lib/python3.8/site-packages (from tci==1.0.0) (3.3.4)\n",
      "Requirement already satisfied: python-dateutil>=2.1 in /srv/conda/envs/notebook/lib/python3.8/site-packages (from matplotlib>=1.5.1->tci==1.0.0) (2.7.5)\n",
      "Requirement already satisfied: pyparsing!=2.0.4,!=2.1.2,!=2.1.6,>=2.0.3 in /srv/conda/envs/notebook/lib/python3.8/site-packages (from matplotlib>=1.5.1->tci==1.0.0) (2.4.7)\n",
      "Requirement already satisfied: kiwisolver>=1.0.1 in /srv/conda/envs/notebook/lib/python3.8/site-packages (from matplotlib>=1.5.1->tci==1.0.0) (1.3.1)\n",
      "Requirement already satisfied: cycler>=0.10 in /srv/conda/envs/notebook/lib/python3.8/site-packages (from matplotlib>=1.5.1->tci==1.0.0) (0.10.0)\n",
      "Requirement already satisfied: pillow>=6.2.0 in /srv/conda/envs/notebook/lib/python3.8/site-packages (from matplotlib>=1.5.1->tci==1.0.0) (8.1.0)\n",
      "Requirement already satisfied: six in /srv/conda/envs/notebook/lib/python3.8/site-packages (from cycler>=0.10->matplotlib>=1.5.1->tci==1.0.0) (1.15.0)\n",
      "Installing collected packages: tci\n",
      "  Attempting uninstall: tci\n",
      "    Found existing installation: tci 1.0.0\n",
      "    Uninstalling tci-1.0.0:\n",
      "      Successfully uninstalled tci-1.0.0\n",
      "  Running setup.py develop for tci\n",
      "Successfully installed tci\n"
     ]
    }
   ],
   "source": [
    "! pip install -e ."
   ]
  },
  {
   "cell_type": "code",
   "execution_count": null,
   "id": "reduced-candy",
   "metadata": {},
   "outputs": [],
   "source": [
    "(VMAX,PMIN,IFL,TO,LNB)=pi(sst1,msl1,p1,t1,q1,CKCD=0.9,ascent_flag=0,diss_flag=1,V_reduc=0.8,miss_handle=0)"
   ]
  }
 ],
 "metadata": {
  "hide_input": false,
  "kernelspec": {
   "display_name": "Python 3 (ipykernel)",
   "language": "python",
   "name": "python3"
  },
  "language_info": {
   "codemirror_mode": {
    "name": "ipython",
    "version": 3
   },
   "file_extension": ".py",
   "mimetype": "text/x-python",
   "name": "python",
   "nbconvert_exporter": "python",
   "pygments_lexer": "ipython3",
   "version": "3.8.12"
  },
  "varInspector": {
   "cols": {
    "lenName": 16,
    "lenType": 16,
    "lenVar": 40
   },
   "kernels_config": {
    "python": {
     "delete_cmd_postfix": "",
     "delete_cmd_prefix": "del ",
     "library": "var_list.py",
     "varRefreshCmd": "print(var_dic_list())"
    },
    "r": {
     "delete_cmd_postfix": ") ",
     "delete_cmd_prefix": "rm(",
     "library": "var_list.r",
     "varRefreshCmd": "cat(var_dic_list()) "
    }
   },
   "types_to_exclude": [
    "module",
    "function",
    "builtin_function_or_method",
    "instance",
    "_Feature"
   ],
   "window_display": false
  }
 },
 "nbformat": 4,
 "nbformat_minor": 5
}
