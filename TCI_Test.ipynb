{
 "cells": [
  {
   "cell_type": "markdown",
   "id": "sitting-israel",
   "metadata": {},
   "source": [
    "# TCI Test"
   ]
  },
  {
   "cell_type": "code",
   "execution_count": 7,
   "id": "fossil-grant",
   "metadata": {
    "ExecuteTime": {
     "end_time": "2021-12-06T11:42:46.178257Z",
     "start_time": "2021-12-06T11:42:45.528705Z"
    }
   },
   "outputs": [],
   "source": [
    "from tcpyPI import pi, cape"
   ]
  },
  {
   "cell_type": "code",
   "execution_count": 8,
   "id": "06aa78f7",
   "metadata": {
    "ExecuteTime": {
     "end_time": "2021-12-06T11:42:56.392747Z",
     "start_time": "2021-12-06T11:42:54.459225Z"
    }
   },
   "outputs": [
    {
     "name": "stdout",
     "output_type": "stream",
     "text": [
      "argcomplete==1.12.3\n",
      "argon2-cffi==21.1.0\n",
      "attrs==21.2.0\n",
      "backcall==0.2.0\n",
      "bleach==4.1.0\n",
      "certifi==2021.10.8\n",
      "cffi==1.15.0\n",
      "cftime==1.5.1.1\n",
      "cmocean==2.0\n",
      "debugpy==1.5.1\n",
      "decorator==5.1.0\n",
      "defusedxml==0.7.1\n",
      "entrypoints==0.3\n",
      "importlib-metadata==4.8.2\n",
      "importlib-resources==5.4.0\n",
      "ipykernel==6.6.0\n",
      "ipython==7.30.1\n",
      "ipython-genutils==0.2.0\n",
      "ipywidgets==7.6.5\n",
      "jedi==0.18.1\n",
      "Jinja2==3.0.3\n",
      "jsonschema==4.2.1\n",
      "jupyter==1.0.0\n",
      "jupyter-client==7.1.0\n",
      "jupyter-console==6.4.0\n",
      "jupyter-core==4.9.1\n",
      "jupyterlab-pygments==0.1.2\n",
      "jupyterlab-widgets==1.0.2\n",
      "llvmlite==0.37.0\n",
      "MarkupSafe==2.0.1\n",
      "matplotlib-inline==0.1.3\n",
      "mistune==0.8.4\n",
      "mkl-fft==1.3.1\n",
      "mkl-random @ file:///tmp/build/80754af9/mkl_random_1626179032232/work\n",
      "mkl-service==2.4.0\n",
      "nbclient==0.5.9\n",
      "nbconvert==6.3.0\n",
      "nbformat==5.1.3\n",
      "nest-asyncio==1.5.4\n",
      "netCDF4==1.5.8\n",
      "notebook==6.4.6\n",
      "numba==0.54.1\n",
      "numpy==1.20.3\n",
      "packaging==21.3\n",
      "pandas==1.3.4\n",
      "pandocfilters==1.5.0\n",
      "parso==0.8.3\n",
      "pexpect==4.8.0\n",
      "pickleshare==0.7.5\n",
      "prometheus-client==0.12.0\n",
      "prompt-toolkit==3.0.23\n",
      "ptyprocess==0.7.0\n",
      "pycparser==2.21\n",
      "Pygments==2.10.0\n",
      "pyparsing==3.0.6\n",
      "pyrsistent==0.18.0\n",
      "python-dateutil==2.8.2\n",
      "pytz==2021.3\n",
      "pyzmq==22.3.0\n",
      "qtconsole==5.2.1\n",
      "QtPy==1.11.3\n",
      "Send2Trash==1.8.0\n",
      "six @ file:///tmp/build/80754af9/six_1623709665295/work\n",
      "sobol-seq==0.1.2\n",
      "-e git+https://github.com/sdat2/TCI.git@bf21ac7fc66cc16386f7547bdb6113d825b23c18#egg=tci\n",
      "-e git+https://github.com/sdat2/tcpyPI.git@cf69acd1159e2edb72b02240cbecbe19790d48b7#egg=tcpypi\n",
      "terminado==0.12.1\n",
      "testpath==0.5.0\n",
      "tornado==6.1\n",
      "traitlets==5.1.1\n",
      "typing_extensions==4.0.1\n",
      "wcwidth==0.2.5\n",
      "webencodings==0.5.1\n",
      "widgetsnbextension==3.5.2\n",
      "xarray==0.20.1\n",
      "zipp==3.6.0\n",
      "Note: you may need to restart the kernel to use updated packages.\n"
     ]
    }
   ],
   "source": []
  },
  {
   "cell_type": "code",
   "execution_count": 9,
   "id": "reduced-candy",
   "metadata": {
    "ExecuteTime": {
     "end_time": "2021-12-06T11:45:10.284033Z",
     "start_time": "2021-12-06T11:45:10.203021Z"
    }
   },
   "outputs": [
    {
     "ename": "NameError",
     "evalue": "name 'sst1' is not defined",
     "output_type": "error",
     "traceback": [
      "\u001b[0;31m---------------------------------------------------------------------------\u001b[0m",
      "\u001b[0;31mNameError\u001b[0m                                 Traceback (most recent call last)",
      "\u001b[0;32m/tmp/ipykernel_49142/3801686922.py\u001b[0m in \u001b[0;36m<module>\u001b[0;34m\u001b[0m\n\u001b[0;32m----> 1\u001b[0;31m \u001b[0;34m(\u001b[0m\u001b[0mVMAX\u001b[0m\u001b[0;34m,\u001b[0m\u001b[0mPMIN\u001b[0m\u001b[0;34m,\u001b[0m\u001b[0mIFL\u001b[0m\u001b[0;34m,\u001b[0m\u001b[0mTO\u001b[0m\u001b[0;34m,\u001b[0m\u001b[0mLNB\u001b[0m\u001b[0;34m)\u001b[0m\u001b[0;34m=\u001b[0m\u001b[0mpi\u001b[0m\u001b[0;34m(\u001b[0m\u001b[0msst1\u001b[0m\u001b[0;34m,\u001b[0m\u001b[0mmsl1\u001b[0m\u001b[0;34m,\u001b[0m\u001b[0mp1\u001b[0m\u001b[0;34m,\u001b[0m\u001b[0mt1\u001b[0m\u001b[0;34m,\u001b[0m\u001b[0mq1\u001b[0m\u001b[0;34m,\u001b[0m\u001b[0mCKCD\u001b[0m\u001b[0;34m=\u001b[0m\u001b[0;36m0.9\u001b[0m\u001b[0;34m,\u001b[0m\u001b[0mascent_flag\u001b[0m\u001b[0;34m=\u001b[0m\u001b[0;36m0\u001b[0m\u001b[0;34m,\u001b[0m\u001b[0mdiss_flag\u001b[0m\u001b[0;34m=\u001b[0m\u001b[0;36m1\u001b[0m\u001b[0;34m,\u001b[0m\u001b[0mV_reduc\u001b[0m\u001b[0;34m=\u001b[0m\u001b[0;36m0.8\u001b[0m\u001b[0;34m,\u001b[0m\u001b[0mmiss_handle\u001b[0m\u001b[0;34m=\u001b[0m\u001b[0;36m0\u001b[0m\u001b[0;34m)\u001b[0m\u001b[0;34m\u001b[0m\u001b[0;34m\u001b[0m\u001b[0m\n\u001b[0m",
      "\u001b[0;31mNameError\u001b[0m: name 'sst1' is not defined"
     ]
    }
   ],
   "source": [
    "(VMAX,PMIN,IFL,TO,LNB)=pi(sst1,msl1,p1,t1,q1,CKCD=0.9,ascent_flag=0,diss_flag=1,V_reduc=0.8,miss_handle=0)"
   ]
  },
  {
   "cell_type": "code",
   "execution_count": null,
   "id": "eccfb870",
   "metadata": {},
   "outputs": [],
   "source": []
  }
 ],
 "metadata": {
  "hide_input": false,
  "kernelspec": {
   "display_name": "Python 3 (ipykernel)",
   "language": "python",
   "name": "python3"
  },
  "language_info": {
   "codemirror_mode": {
    "name": "ipython",
    "version": 3
   },
   "file_extension": ".py",
   "mimetype": "text/x-python",
   "name": "python",
   "nbconvert_exporter": "python",
   "pygments_lexer": "ipython3",
   "version": "3.7.11"
  },
  "varInspector": {
   "cols": {
    "lenName": 16,
    "lenType": 16,
    "lenVar": 40
   },
   "kernels_config": {
    "python": {
     "delete_cmd_postfix": "",
     "delete_cmd_prefix": "del ",
     "library": "var_list.py",
     "varRefreshCmd": "print(var_dic_list())"
    },
    "r": {
     "delete_cmd_postfix": ") ",
     "delete_cmd_prefix": "rm(",
     "library": "var_list.r",
     "varRefreshCmd": "cat(var_dic_list()) "
    }
   },
   "types_to_exclude": [
    "module",
    "function",
    "builtin_function_or_method",
    "instance",
    "_Feature"
   ],
   "window_display": false
  }
 },
 "nbformat": 4,
 "nbformat_minor": 5
}
